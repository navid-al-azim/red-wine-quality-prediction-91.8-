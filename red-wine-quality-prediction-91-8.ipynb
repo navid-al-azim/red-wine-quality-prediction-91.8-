{
 "cells": [
  {
   "cell_type": "code",
   "execution_count": 1,
   "id": "5dbe4555",
   "metadata": {
    "_cell_guid": "b1076dfc-b9ad-4769-8c92-a6c4dae69d19",
    "_uuid": "8f2839f25d086af736a60e9eeb907d3b93b6e0e5",
    "execution": {
     "iopub.execute_input": "2021-08-06T22:07:41.207634Z",
     "iopub.status.busy": "2021-08-06T22:07:41.205475Z",
     "iopub.status.idle": "2021-08-06T22:07:42.234116Z",
     "shell.execute_reply": "2021-08-06T22:07:42.234642Z",
     "shell.execute_reply.started": "2021-08-06T21:53:11.024633Z"
    },
    "papermill": {
     "duration": 1.069858,
     "end_time": "2021-08-06T22:07:42.234933",
     "exception": false,
     "start_time": "2021-08-06T22:07:41.165075",
     "status": "completed"
    },
    "tags": []
   },
   "outputs": [
    {
     "name": "stdout",
     "output_type": "stream",
     "text": [
      "/kaggle/input/red-wine-quality-cortez-et-al-2009/winequality-red.csv\n"
     ]
    }
   ],
   "source": [
    "import numpy as np\n",
    "import pandas as pd \n",
    "import os\n",
    "for dirname, _, filenames in os.walk('/kaggle/input'):\n",
    "    for filename in filenames:\n",
    "        print(os.path.join(dirname, filename))\n",
    "import matplotlib.pyplot as plt\n",
    "import seaborn as sns \n",
    "%matplotlib inline"
   ]
  },
  {
   "cell_type": "code",
   "execution_count": 2,
   "id": "5dd6e27f",
   "metadata": {
    "execution": {
     "iopub.execute_input": "2021-08-06T22:07:42.284832Z",
     "iopub.status.busy": "2021-08-06T22:07:42.284222Z",
     "iopub.status.idle": "2021-08-06T22:07:42.339583Z",
     "shell.execute_reply": "2021-08-06T22:07:42.338948Z",
     "shell.execute_reply.started": "2021-08-06T21:53:11.038321Z"
    },
    "papermill": {
     "duration": 0.080893,
     "end_time": "2021-08-06T22:07:42.339720",
     "exception": false,
     "start_time": "2021-08-06T22:07:42.258827",
     "status": "completed"
    },
    "tags": []
   },
   "outputs": [
    {
     "data": {
      "text/html": [
       "<div>\n",
       "<style scoped>\n",
       "    .dataframe tbody tr th:only-of-type {\n",
       "        vertical-align: middle;\n",
       "    }\n",
       "\n",
       "    .dataframe tbody tr th {\n",
       "        vertical-align: top;\n",
       "    }\n",
       "\n",
       "    .dataframe thead th {\n",
       "        text-align: right;\n",
       "    }\n",
       "</style>\n",
       "<table border=\"1\" class=\"dataframe\">\n",
       "  <thead>\n",
       "    <tr style=\"text-align: right;\">\n",
       "      <th></th>\n",
       "      <th>fixed acidity</th>\n",
       "      <th>volatile acidity</th>\n",
       "      <th>citric acid</th>\n",
       "      <th>residual sugar</th>\n",
       "      <th>chlorides</th>\n",
       "      <th>free sulfur dioxide</th>\n",
       "      <th>total sulfur dioxide</th>\n",
       "      <th>density</th>\n",
       "      <th>pH</th>\n",
       "      <th>sulphates</th>\n",
       "      <th>alcohol</th>\n",
       "      <th>quality</th>\n",
       "    </tr>\n",
       "  </thead>\n",
       "  <tbody>\n",
       "    <tr>\n",
       "      <th>0</th>\n",
       "      <td>7.4</td>\n",
       "      <td>0.70</td>\n",
       "      <td>0.00</td>\n",
       "      <td>1.9</td>\n",
       "      <td>0.076</td>\n",
       "      <td>11.0</td>\n",
       "      <td>34.0</td>\n",
       "      <td>0.9978</td>\n",
       "      <td>3.51</td>\n",
       "      <td>0.56</td>\n",
       "      <td>9.4</td>\n",
       "      <td>5</td>\n",
       "    </tr>\n",
       "    <tr>\n",
       "      <th>1</th>\n",
       "      <td>7.8</td>\n",
       "      <td>0.88</td>\n",
       "      <td>0.00</td>\n",
       "      <td>2.6</td>\n",
       "      <td>0.098</td>\n",
       "      <td>25.0</td>\n",
       "      <td>67.0</td>\n",
       "      <td>0.9968</td>\n",
       "      <td>3.20</td>\n",
       "      <td>0.68</td>\n",
       "      <td>9.8</td>\n",
       "      <td>5</td>\n",
       "    </tr>\n",
       "    <tr>\n",
       "      <th>2</th>\n",
       "      <td>7.8</td>\n",
       "      <td>0.76</td>\n",
       "      <td>0.04</td>\n",
       "      <td>2.3</td>\n",
       "      <td>0.092</td>\n",
       "      <td>15.0</td>\n",
       "      <td>54.0</td>\n",
       "      <td>0.9970</td>\n",
       "      <td>3.26</td>\n",
       "      <td>0.65</td>\n",
       "      <td>9.8</td>\n",
       "      <td>5</td>\n",
       "    </tr>\n",
       "    <tr>\n",
       "      <th>3</th>\n",
       "      <td>11.2</td>\n",
       "      <td>0.28</td>\n",
       "      <td>0.56</td>\n",
       "      <td>1.9</td>\n",
       "      <td>0.075</td>\n",
       "      <td>17.0</td>\n",
       "      <td>60.0</td>\n",
       "      <td>0.9980</td>\n",
       "      <td>3.16</td>\n",
       "      <td>0.58</td>\n",
       "      <td>9.8</td>\n",
       "      <td>6</td>\n",
       "    </tr>\n",
       "    <tr>\n",
       "      <th>4</th>\n",
       "      <td>7.4</td>\n",
       "      <td>0.70</td>\n",
       "      <td>0.00</td>\n",
       "      <td>1.9</td>\n",
       "      <td>0.076</td>\n",
       "      <td>11.0</td>\n",
       "      <td>34.0</td>\n",
       "      <td>0.9978</td>\n",
       "      <td>3.51</td>\n",
       "      <td>0.56</td>\n",
       "      <td>9.4</td>\n",
       "      <td>5</td>\n",
       "    </tr>\n",
       "    <tr>\n",
       "      <th>5</th>\n",
       "      <td>7.4</td>\n",
       "      <td>0.66</td>\n",
       "      <td>0.00</td>\n",
       "      <td>1.8</td>\n",
       "      <td>0.075</td>\n",
       "      <td>13.0</td>\n",
       "      <td>40.0</td>\n",
       "      <td>0.9978</td>\n",
       "      <td>3.51</td>\n",
       "      <td>0.56</td>\n",
       "      <td>9.4</td>\n",
       "      <td>5</td>\n",
       "    </tr>\n",
       "    <tr>\n",
       "      <th>6</th>\n",
       "      <td>7.9</td>\n",
       "      <td>0.60</td>\n",
       "      <td>0.06</td>\n",
       "      <td>1.6</td>\n",
       "      <td>0.069</td>\n",
       "      <td>15.0</td>\n",
       "      <td>59.0</td>\n",
       "      <td>0.9964</td>\n",
       "      <td>3.30</td>\n",
       "      <td>0.46</td>\n",
       "      <td>9.4</td>\n",
       "      <td>5</td>\n",
       "    </tr>\n",
       "    <tr>\n",
       "      <th>7</th>\n",
       "      <td>7.3</td>\n",
       "      <td>0.65</td>\n",
       "      <td>0.00</td>\n",
       "      <td>1.2</td>\n",
       "      <td>0.065</td>\n",
       "      <td>15.0</td>\n",
       "      <td>21.0</td>\n",
       "      <td>0.9946</td>\n",
       "      <td>3.39</td>\n",
       "      <td>0.47</td>\n",
       "      <td>10.0</td>\n",
       "      <td>7</td>\n",
       "    </tr>\n",
       "    <tr>\n",
       "      <th>8</th>\n",
       "      <td>7.8</td>\n",
       "      <td>0.58</td>\n",
       "      <td>0.02</td>\n",
       "      <td>2.0</td>\n",
       "      <td>0.073</td>\n",
       "      <td>9.0</td>\n",
       "      <td>18.0</td>\n",
       "      <td>0.9968</td>\n",
       "      <td>3.36</td>\n",
       "      <td>0.57</td>\n",
       "      <td>9.5</td>\n",
       "      <td>7</td>\n",
       "    </tr>\n",
       "    <tr>\n",
       "      <th>9</th>\n",
       "      <td>7.5</td>\n",
       "      <td>0.50</td>\n",
       "      <td>0.36</td>\n",
       "      <td>6.1</td>\n",
       "      <td>0.071</td>\n",
       "      <td>17.0</td>\n",
       "      <td>102.0</td>\n",
       "      <td>0.9978</td>\n",
       "      <td>3.35</td>\n",
       "      <td>0.80</td>\n",
       "      <td>10.5</td>\n",
       "      <td>5</td>\n",
       "    </tr>\n",
       "  </tbody>\n",
       "</table>\n",
       "</div>"
      ],
      "text/plain": [
       "   fixed acidity  volatile acidity  citric acid  residual sugar  chlorides  \\\n",
       "0            7.4              0.70         0.00             1.9      0.076   \n",
       "1            7.8              0.88         0.00             2.6      0.098   \n",
       "2            7.8              0.76         0.04             2.3      0.092   \n",
       "3           11.2              0.28         0.56             1.9      0.075   \n",
       "4            7.4              0.70         0.00             1.9      0.076   \n",
       "5            7.4              0.66         0.00             1.8      0.075   \n",
       "6            7.9              0.60         0.06             1.6      0.069   \n",
       "7            7.3              0.65         0.00             1.2      0.065   \n",
       "8            7.8              0.58         0.02             2.0      0.073   \n",
       "9            7.5              0.50         0.36             6.1      0.071   \n",
       "\n",
       "   free sulfur dioxide  total sulfur dioxide  density    pH  sulphates  \\\n",
       "0                 11.0                  34.0   0.9978  3.51       0.56   \n",
       "1                 25.0                  67.0   0.9968  3.20       0.68   \n",
       "2                 15.0                  54.0   0.9970  3.26       0.65   \n",
       "3                 17.0                  60.0   0.9980  3.16       0.58   \n",
       "4                 11.0                  34.0   0.9978  3.51       0.56   \n",
       "5                 13.0                  40.0   0.9978  3.51       0.56   \n",
       "6                 15.0                  59.0   0.9964  3.30       0.46   \n",
       "7                 15.0                  21.0   0.9946  3.39       0.47   \n",
       "8                  9.0                  18.0   0.9968  3.36       0.57   \n",
       "9                 17.0                 102.0   0.9978  3.35       0.80   \n",
       "\n",
       "   alcohol  quality  \n",
       "0      9.4        5  \n",
       "1      9.8        5  \n",
       "2      9.8        5  \n",
       "3      9.8        6  \n",
       "4      9.4        5  \n",
       "5      9.4        5  \n",
       "6      9.4        5  \n",
       "7     10.0        7  \n",
       "8      9.5        7  \n",
       "9     10.5        5  "
      ]
     },
     "execution_count": 2,
     "metadata": {},
     "output_type": "execute_result"
    }
   ],
   "source": [
    "main = pd.read_csv('/kaggle/input/red-wine-quality-cortez-et-al-2009/winequality-red.csv')\n",
    "main.head(10)"
   ]
  },
  {
   "cell_type": "code",
   "execution_count": 3,
   "id": "b8094a6a",
   "metadata": {
    "execution": {
     "iopub.execute_input": "2021-08-06T22:07:42.396015Z",
     "iopub.status.busy": "2021-08-06T22:07:42.395249Z",
     "iopub.status.idle": "2021-08-06T22:07:42.399438Z",
     "shell.execute_reply": "2021-08-06T22:07:42.398811Z",
     "shell.execute_reply.started": "2021-08-06T21:53:11.075511Z"
    },
    "papermill": {
     "duration": 0.035643,
     "end_time": "2021-08-06T22:07:42.399589",
     "exception": false,
     "start_time": "2021-08-06T22:07:42.363946",
     "status": "completed"
    },
    "tags": []
   },
   "outputs": [
    {
     "name": "stdout",
     "output_type": "stream",
     "text": [
      "fixed acidity           float64\n",
      "volatile acidity        float64\n",
      "citric acid             float64\n",
      "residual sugar          float64\n",
      "chlorides               float64\n",
      "free sulfur dioxide     float64\n",
      "total sulfur dioxide    float64\n",
      "density                 float64\n",
      "pH                      float64\n",
      "sulphates               float64\n",
      "alcohol                 float64\n",
      "quality                   int64\n",
      "dtype: object\n",
      "--------------------------------------------------\n",
      "fixed acidity           0\n",
      "volatile acidity        0\n",
      "citric acid             0\n",
      "residual sugar          0\n",
      "chlorides               0\n",
      "free sulfur dioxide     0\n",
      "total sulfur dioxide    0\n",
      "density                 0\n",
      "pH                      0\n",
      "sulphates               0\n",
      "alcohol                 0\n",
      "quality                 0\n",
      "dtype: int64\n"
     ]
    }
   ],
   "source": [
    "print(main.dtypes)\n",
    "print('-' * 50)\n",
    "print(main.isnull().sum())"
   ]
  },
  {
   "cell_type": "code",
   "execution_count": 4,
   "id": "972f7030",
   "metadata": {
    "execution": {
     "iopub.execute_input": "2021-08-06T22:07:42.452120Z",
     "iopub.status.busy": "2021-08-06T22:07:42.451446Z",
     "iopub.status.idle": "2021-08-06T22:07:43.068021Z",
     "shell.execute_reply": "2021-08-06T22:07:43.067412Z",
     "shell.execute_reply.started": "2021-08-06T21:53:11.087240Z"
    },
    "papermill": {
     "duration": 0.644435,
     "end_time": "2021-08-06T22:07:43.068173",
     "exception": false,
     "start_time": "2021-08-06T22:07:42.423738",
     "status": "completed"
    },
    "tags": []
   },
   "outputs": [
    {
     "data": {
      "text/plain": [
       "<AxesSubplot:>"
      ]
     },
     "execution_count": 4,
     "metadata": {},
     "output_type": "execute_result"
    },
    {
     "data": {
      "image/png": "[encoded data removed]",
      "text/plain": [
       "<Figure size 1800x720 with 2 Axes>"
      ]
     },
     "metadata": {
      "needs_background": "light"
     },
     "output_type": "display_data"
    }
   ],
   "source": [
    "import missingno as msn\n",
    "msn.matrix(main)"
   ]
  },
  {
   "cell_type": "code",
   "execution_count": 5,
   "id": "f89832cb",
   "metadata": {
    "execution": {
     "iopub.execute_input": "2021-08-06T22:07:43.127990Z",
     "iopub.status.busy": "2021-08-06T22:07:43.127335Z",
     "iopub.status.idle": "2021-08-06T22:07:43.291709Z",
     "shell.execute_reply": "2021-08-06T22:07:43.292291Z",
     "shell.execute_reply.started": "2021-08-06T21:53:11.663613Z"
    },
    "papermill": {
     "duration": 0.198549,
     "end_time": "2021-08-06T22:07:43.292484",
     "exception": false,
     "start_time": "2021-08-06T22:07:43.093935",
     "status": "completed"
    },
    "tags": []
   },
   "outputs": [
    {
     "data": {
      "text/plain": [
       "<AxesSubplot:xlabel='quality', ylabel='count'>"
      ]
     },
     "execution_count": 5,
     "metadata": {},
     "output_type": "execute_result"
    },
    {
     "data": {
      "image/png": "[encoded data removed]",
      "text/plain": [
       "<Figure size 432x288 with 1 Axes>"
      ]
     },
     "metadata": {
      "needs_background": "light"
     },
     "output_type": "display_data"
    }
   ],
   "source": [
    "sns.countplot(x = main['quality'], palette= 'muted')"
   ]
  },
  {
   "cell_type": "code",
   "execution_count": 6,
   "id": "51c49c27",
   "metadata": {
    "execution": {
     "iopub.execute_input": "2021-08-06T22:07:43.350737Z",
     "iopub.status.busy": "2021-08-06T22:07:43.350072Z",
     "iopub.status.idle": "2021-08-06T22:07:43.358580Z",
     "shell.execute_reply": "2021-08-06T22:07:43.359126Z",
     "shell.execute_reply.started": "2021-08-06T21:53:11.837467Z"
    },
    "papermill": {
     "duration": 0.039095,
     "end_time": "2021-08-06T22:07:43.359314",
     "exception": false,
     "start_time": "2021-08-06T22:07:43.320219",
     "status": "completed"
    },
    "tags": []
   },
   "outputs": [
    {
     "data": {
      "text/plain": [
       "quality                 1.000000\n",
       "alcohol                 0.476166\n",
       "sulphates               0.251397\n",
       "citric acid             0.226373\n",
       "fixed acidity           0.124052\n",
       "residual sugar          0.013732\n",
       "free sulfur dioxide    -0.050656\n",
       "pH                     -0.057731\n",
       "chlorides              -0.128907\n",
       "density                -0.174919\n",
       "total sulfur dioxide   -0.185100\n",
       "volatile acidity       -0.390558\n",
       "Name: quality, dtype: float64"
      ]
     },
     "execution_count": 6,
     "metadata": {},
     "output_type": "execute_result"
    }
   ],
   "source": [
    "#correlating vaiables with quality\n",
    "main.corr()['quality'].sort_values(ascending = False)"
   ]
  },
  {
   "cell_type": "code",
   "execution_count": 7,
   "id": "70e5da8a",
   "metadata": {
    "execution": {
     "iopub.execute_input": "2021-08-06T22:07:43.417668Z",
     "iopub.status.busy": "2021-08-06T22:07:43.416945Z",
     "iopub.status.idle": "2021-08-06T22:07:43.859748Z",
     "shell.execute_reply": "2021-08-06T22:07:43.859223Z",
     "shell.execute_reply.started": "2021-08-06T21:53:11.849967Z"
    },
    "papermill": {
     "duration": 0.473314,
     "end_time": "2021-08-06T22:07:43.859887",
     "exception": false,
     "start_time": "2021-08-06T22:07:43.386573",
     "status": "completed"
    },
    "tags": []
   },
   "outputs": [
    {
     "data": {
      "text/plain": [
       "<AxesSubplot:>"
      ]
     },
     "execution_count": 7,
     "metadata": {},
     "output_type": "execute_result"
    },
    {
     "data": {
      "image/png": "[encoded data removed]",
      "text/plain": [
       "<Figure size 432x288 with 2 Axes>"
      ]
     },
     "metadata": {
      "needs_background": "light"
     },
     "output_type": "display_data"
    }
   ],
   "source": [
    "sns.heatmap(main.corr(), cmap = 'Reds', linewidth = 1, linecolor = 'Black')"
   ]
  },
  {
   "cell_type": "code",
   "execution_count": 8,
   "id": "297e80f7",
   "metadata": {
    "execution": {
     "iopub.execute_input": "2021-08-06T22:07:43.922508Z",
     "iopub.status.busy": "2021-08-06T22:07:43.921836Z",
     "iopub.status.idle": "2021-08-06T22:07:43.932791Z",
     "shell.execute_reply": "2021-08-06T22:07:43.933315Z",
     "shell.execute_reply.started": "2021-08-06T21:53:12.307832Z"
    },
    "papermill": {
     "duration": 0.043817,
     "end_time": "2021-08-06T22:07:43.933485",
     "exception": false,
     "start_time": "2021-08-06T22:07:43.889668",
     "status": "completed"
    },
    "tags": []
   },
   "outputs": [
    {
     "data": {
      "text/plain": [
       "0    1382\n",
       "1     217\n",
       "Name: quality, dtype: int64"
      ]
     },
     "execution_count": 8,
     "metadata": {},
     "output_type": "execute_result"
    }
   ],
   "source": [
    "main['quality']=[1 if i > 6.5 else 0 for i in main['quality']]\n",
    "main['quality'].value_counts()"
   ]
  },
  {
   "cell_type": "code",
   "execution_count": 9,
   "id": "99b4f9bb",
   "metadata": {
    "execution": {
     "iopub.execute_input": "2021-08-06T22:07:43.994375Z",
     "iopub.status.busy": "2021-08-06T22:07:43.993772Z",
     "iopub.status.idle": "2021-08-06T22:07:44.236802Z",
     "shell.execute_reply": "2021-08-06T22:07:44.235792Z",
     "shell.execute_reply.started": "2021-08-06T21:53:12.321009Z"
    },
    "papermill": {
     "duration": 0.274186,
     "end_time": "2021-08-06T22:07:44.236951",
     "exception": false,
     "start_time": "2021-08-06T22:07:43.962765",
     "status": "completed"
    },
    "tags": []
   },
   "outputs": [
    {
     "data": {
      "text/plain": [
       "<AxesSubplot:xlabel='alcohol', ylabel='Count'>"
      ]
     },
     "execution_count": 9,
     "metadata": {},
     "output_type": "execute_result"
    },
    {
     "data": {
      "image/png": "[encoded data removed]",
      "text/plain": [
       "<Figure size 432x288 with 1 Axes>"
      ]
     },
     "metadata": {
      "needs_background": "light"
     },
     "output_type": "display_data"
    }
   ],
   "source": [
    "sns.histplot(main['alcohol'], palette = 'muted')"
   ]
  },
  {
   "cell_type": "markdown",
   "id": "884ab27c",
   "metadata": {
    "papermill": {
     "duration": 0.029181,
     "end_time": "2021-08-06T22:07:44.296113",
     "exception": false,
     "start_time": "2021-08-06T22:07:44.266932",
     "status": "completed"
    },
    "tags": []
   },
   "source": [
    "# Box Plots for the important variables"
   ]
  },
  {
   "cell_type": "code",
   "execution_count": 10,
   "id": "9d0238c7",
   "metadata": {
    "execution": {
     "iopub.execute_input": "2021-08-06T22:07:44.394807Z",
     "iopub.status.busy": "2021-08-06T22:07:44.386663Z",
     "iopub.status.idle": "2021-08-06T22:07:44.858454Z",
     "shell.execute_reply": "2021-08-06T22:07:44.858936Z",
     "shell.execute_reply.started": "2021-08-06T21:53:12.548819Z"
    },
    "papermill": {
     "duration": 0.533124,
     "end_time": "2021-08-06T22:07:44.859112",
     "exception": false,
     "start_time": "2021-08-06T22:07:44.325988",
     "status": "completed"
    },
    "tags": []
   },
   "outputs": [
    {
     "data": {
      "text/plain": [
       "<AxesSubplot:xlabel='fixed acidity'>"
      ]
     },
     "execution_count": 10,
     "metadata": {},
     "output_type": "execute_result"
    },
    {
     "data": {
      "image/png": "[encoded data removed]",
      "text/plain": [
       "<Figure size 432x288 with 4 Axes>"
      ]
     },
     "metadata": {
      "needs_background": "light"
     },
     "output_type": "display_data"
    }
   ],
   "source": [
    "plt.subplot(2,2,1)\n",
    "sns.boxplot(x = main['alcohol'])\n",
    "plt.subplot(2,2,2)\n",
    "sns.boxplot(x = main['sulphates'])\n",
    "plt.subplot(2,2,3)\n",
    "sns.boxplot(x = main['citric acid'])\n",
    "plt.subplot(2,2,4)\n",
    "sns.boxplot(x = main['fixed acidity'])"
   ]
  },
  {
   "cell_type": "code",
   "execution_count": 11,
   "id": "116fdb1c",
   "metadata": {
    "execution": {
     "iopub.execute_input": "2021-08-06T22:07:44.924560Z",
     "iopub.status.busy": "2021-08-06T22:07:44.923626Z",
     "iopub.status.idle": "2021-08-06T22:07:45.303308Z",
     "shell.execute_reply": "2021-08-06T22:07:45.303868Z",
     "shell.execute_reply.started": "2021-08-06T21:53:12.969919Z"
    },
    "papermill": {
     "duration": 0.414019,
     "end_time": "2021-08-06T22:07:45.304037",
     "exception": false,
     "start_time": "2021-08-06T22:07:44.890018",
     "status": "completed"
    },
    "tags": []
   },
   "outputs": [
    {
     "data": {
      "text/plain": [
       "<AxesSubplot:xlabel='chlorides'>"
      ]
     },
     "execution_count": 11,
     "metadata": {},
     "output_type": "execute_result"
    },
    {
     "data": {
      "image/png": "[encoded data removed]",
      "text/plain": [
       "<Figure size 432x288 with 4 Axes>"
      ]
     },
     "metadata": {
      "needs_background": "light"
     },
     "output_type": "display_data"
    }
   ],
   "source": [
    "plt.subplot(2,2,1)\n",
    "sns.boxplot(x = main['volatile acidity'])\n",
    "plt.subplot(2,2,2)\n",
    "sns.boxplot(x = main['total sulfur dioxide'])\n",
    "plt.subplot(2,2,3)\n",
    "sns.boxplot(x = main['density'])\n",
    "plt.subplot(2,2,4)\n",
    "sns.boxplot(x = main['chlorides'])"
   ]
  },
  {
   "cell_type": "code",
   "execution_count": 12,
   "id": "8f6421e4",
   "metadata": {
    "execution": {
     "iopub.execute_input": "2021-08-06T22:07:45.373161Z",
     "iopub.status.busy": "2021-08-06T22:07:45.372195Z",
     "iopub.status.idle": "2021-08-06T22:07:45.399944Z",
     "shell.execute_reply": "2021-08-06T22:07:45.400504Z",
     "shell.execute_reply.started": "2021-08-06T21:53:13.362799Z"
    },
    "papermill": {
     "duration": 0.064254,
     "end_time": "2021-08-06T22:07:45.400684",
     "exception": false,
     "start_time": "2021-08-06T22:07:45.336430",
     "status": "completed"
    },
    "tags": []
   },
   "outputs": [
    {
     "data": {
      "text/html": [
       "<div>\n",
       "<style scoped>\n",
       "    .dataframe tbody tr th:only-of-type {\n",
       "        vertical-align: middle;\n",
       "    }\n",
       "\n",
       "    .dataframe tbody tr th {\n",
       "        vertical-align: top;\n",
       "    }\n",
       "\n",
       "    .dataframe thead th {\n",
       "        text-align: right;\n",
       "    }\n",
       "</style>\n",
       "<table border=\"1\" class=\"dataframe\">\n",
       "  <thead>\n",
       "    <tr style=\"text-align: right;\">\n",
       "      <th></th>\n",
       "      <th>fixed acidity</th>\n",
       "      <th>volatile acidity</th>\n",
       "      <th>citric acid</th>\n",
       "      <th>residual sugar</th>\n",
       "      <th>chlorides</th>\n",
       "      <th>free sulfur dioxide</th>\n",
       "      <th>total sulfur dioxide</th>\n",
       "      <th>density</th>\n",
       "      <th>pH</th>\n",
       "      <th>sulphates</th>\n",
       "      <th>alcohol</th>\n",
       "      <th>quality</th>\n",
       "      <th>zscore</th>\n",
       "    </tr>\n",
       "  </thead>\n",
       "  <tbody>\n",
       "    <tr>\n",
       "      <th>0</th>\n",
       "      <td>7.4</td>\n",
       "      <td>0.70</td>\n",
       "      <td>0.00</td>\n",
       "      <td>1.9</td>\n",
       "      <td>0.076</td>\n",
       "      <td>11.0</td>\n",
       "      <td>34.0</td>\n",
       "      <td>0.9978</td>\n",
       "      <td>3.51</td>\n",
       "      <td>0.56</td>\n",
       "      <td>9.4</td>\n",
       "      <td>0</td>\n",
       "      <td>-1.391037</td>\n",
       "    </tr>\n",
       "    <tr>\n",
       "      <th>1</th>\n",
       "      <td>7.8</td>\n",
       "      <td>0.88</td>\n",
       "      <td>0.00</td>\n",
       "      <td>2.6</td>\n",
       "      <td>0.098</td>\n",
       "      <td>25.0</td>\n",
       "      <td>67.0</td>\n",
       "      <td>0.9968</td>\n",
       "      <td>3.20</td>\n",
       "      <td>0.68</td>\n",
       "      <td>9.8</td>\n",
       "      <td>0</td>\n",
       "      <td>-1.391037</td>\n",
       "    </tr>\n",
       "    <tr>\n",
       "      <th>2</th>\n",
       "      <td>7.8</td>\n",
       "      <td>0.76</td>\n",
       "      <td>0.04</td>\n",
       "      <td>2.3</td>\n",
       "      <td>0.092</td>\n",
       "      <td>15.0</td>\n",
       "      <td>54.0</td>\n",
       "      <td>0.9970</td>\n",
       "      <td>3.26</td>\n",
       "      <td>0.65</td>\n",
       "      <td>9.8</td>\n",
       "      <td>0</td>\n",
       "      <td>-1.185699</td>\n",
       "    </tr>\n",
       "    <tr>\n",
       "      <th>3</th>\n",
       "      <td>11.2</td>\n",
       "      <td>0.28</td>\n",
       "      <td>0.56</td>\n",
       "      <td>1.9</td>\n",
       "      <td>0.075</td>\n",
       "      <td>17.0</td>\n",
       "      <td>60.0</td>\n",
       "      <td>0.9980</td>\n",
       "      <td>3.16</td>\n",
       "      <td>0.58</td>\n",
       "      <td>9.8</td>\n",
       "      <td>0</td>\n",
       "      <td>1.483689</td>\n",
       "    </tr>\n",
       "    <tr>\n",
       "      <th>4</th>\n",
       "      <td>7.4</td>\n",
       "      <td>0.70</td>\n",
       "      <td>0.00</td>\n",
       "      <td>1.9</td>\n",
       "      <td>0.076</td>\n",
       "      <td>11.0</td>\n",
       "      <td>34.0</td>\n",
       "      <td>0.9978</td>\n",
       "      <td>3.51</td>\n",
       "      <td>0.56</td>\n",
       "      <td>9.4</td>\n",
       "      <td>0</td>\n",
       "      <td>-1.391037</td>\n",
       "    </tr>\n",
       "  </tbody>\n",
       "</table>\n",
       "</div>"
      ],
      "text/plain": [
       "   fixed acidity  volatile acidity  citric acid  residual sugar  chlorides  \\\n",
       "0            7.4              0.70         0.00             1.9      0.076   \n",
       "1            7.8              0.88         0.00             2.6      0.098   \n",
       "2            7.8              0.76         0.04             2.3      0.092   \n",
       "3           11.2              0.28         0.56             1.9      0.075   \n",
       "4            7.4              0.70         0.00             1.9      0.076   \n",
       "\n",
       "   free sulfur dioxide  total sulfur dioxide  density    pH  sulphates  \\\n",
       "0                 11.0                  34.0   0.9978  3.51       0.56   \n",
       "1                 25.0                  67.0   0.9968  3.20       0.68   \n",
       "2                 15.0                  54.0   0.9970  3.26       0.65   \n",
       "3                 17.0                  60.0   0.9980  3.16       0.58   \n",
       "4                 11.0                  34.0   0.9978  3.51       0.56   \n",
       "\n",
       "   alcohol  quality    zscore  \n",
       "0      9.4        0 -1.391037  \n",
       "1      9.8        0 -1.391037  \n",
       "2      9.8        0 -1.185699  \n",
       "3      9.8        0  1.483689  \n",
       "4      9.4        0 -1.391037  "
      ]
     },
     "execution_count": 12,
     "metadata": {},
     "output_type": "execute_result"
    }
   ],
   "source": [
    "main['zscore'] = ((main['citric acid'] - main['citric acid'].mean())/main['citric acid'].std())\n",
    "fltr = np.abs(main['zscore'])<3 \n",
    "main = main[fltr]\n",
    "main.head()"
   ]
  },
  {
   "cell_type": "code",
   "execution_count": 13,
   "id": "890bed67",
   "metadata": {
    "execution": {
     "iopub.execute_input": "2021-08-06T22:07:45.468868Z",
     "iopub.status.busy": "2021-08-06T22:07:45.468231Z",
     "iopub.status.idle": "2021-08-06T22:07:45.479096Z",
     "shell.execute_reply": "2021-08-06T22:07:45.479596Z",
     "shell.execute_reply.started": "2021-08-06T21:53:13.392040Z"
    },
    "papermill": {
     "duration": 0.046765,
     "end_time": "2021-08-06T22:07:45.479773",
     "exception": false,
     "start_time": "2021-08-06T22:07:45.433008",
     "status": "completed"
    },
    "tags": []
   },
   "outputs": [],
   "source": [
    "main['zscore2'] = ((main['alcohol'] - main['alcohol'].mean())/main['alcohol'].std())\n",
    "fltr = np.abs(main['zscore2'])<3\n",
    "main = main[fltr]\n",
    "\n",
    "main['zscore3'] = ((main['total sulfur dioxide'] - main['total sulfur dioxide'].mean())/main['total sulfur dioxide'].std())\n",
    "fltr = np.abs(main['zscore2'])<3\n",
    "main = main[fltr]"
   ]
  },
  {
   "cell_type": "code",
   "execution_count": 14,
   "id": "956851bd",
   "metadata": {
    "execution": {
     "iopub.execute_input": "2021-08-06T22:07:45.551226Z",
     "iopub.status.busy": "2021-08-06T22:07:45.550554Z",
     "iopub.status.idle": "2021-08-06T22:07:45.553616Z",
     "shell.execute_reply": "2021-08-06T22:07:45.553062Z",
     "shell.execute_reply.started": "2021-08-06T21:53:13.405060Z"
    },
    "papermill": {
     "duration": 0.041391,
     "end_time": "2021-08-06T22:07:45.553756",
     "exception": false,
     "start_time": "2021-08-06T22:07:45.512365",
     "status": "completed"
    },
    "tags": []
   },
   "outputs": [],
   "source": [
    "x = main.drop(['quality', 'zscore', 'zscore2', 'zscore3', 'free sulfur dioxide'], axis = 1)\n",
    "y = main['quality']\n"
   ]
  },
  {
   "cell_type": "code",
   "execution_count": 15,
   "id": "ea0477e2",
   "metadata": {
    "execution": {
     "iopub.execute_input": "2021-08-06T22:07:45.624753Z",
     "iopub.status.busy": "2021-08-06T22:07:45.624037Z",
     "iopub.status.idle": "2021-08-06T22:07:45.806802Z",
     "shell.execute_reply": "2021-08-06T22:07:45.807315Z",
     "shell.execute_reply.started": "2021-08-06T21:53:13.414291Z"
    },
    "papermill": {
     "duration": 0.220911,
     "end_time": "2021-08-06T22:07:45.807502",
     "exception": false,
     "start_time": "2021-08-06T22:07:45.586591",
     "status": "completed"
    },
    "tags": []
   },
   "outputs": [],
   "source": [
    "from sklearn.model_selection import train_test_split\n",
    "x_train, x_test, y_train, y_test = train_test_split(x,y,test_size = .20, random_state = 41)"
   ]
  },
  {
   "cell_type": "markdown",
   "id": "259c5b46",
   "metadata": {
    "papermill": {
     "duration": 0.032202,
     "end_time": "2021-08-06T22:07:45.872535",
     "exception": false,
     "start_time": "2021-08-06T22:07:45.840333",
     "status": "completed"
    },
    "tags": []
   },
   "source": [
    "# Applying Standard Scaler"
   ]
  },
  {
   "cell_type": "code",
   "execution_count": 16,
   "id": "4157d066",
   "metadata": {
    "execution": {
     "iopub.execute_input": "2021-08-06T22:07:45.941581Z",
     "iopub.status.busy": "2021-08-06T22:07:45.940581Z",
     "iopub.status.idle": "2021-08-06T22:07:45.953955Z",
     "shell.execute_reply": "2021-08-06T22:07:45.954502Z",
     "shell.execute_reply.started": "2021-08-06T21:53:13.429455Z"
    },
    "papermill": {
     "duration": 0.049423,
     "end_time": "2021-08-06T22:07:45.954695",
     "exception": false,
     "start_time": "2021-08-06T22:07:45.905272",
     "status": "completed"
    },
    "tags": []
   },
   "outputs": [],
   "source": [
    "from sklearn.preprocessing import StandardScaler\n",
    "model = StandardScaler()\n",
    "x_train = model.fit_transform(x_train)\n",
    "x_test = model.fit_transform(x_test)"
   ]
  },
  {
   "cell_type": "code",
   "execution_count": 17,
   "id": "6dd9beda",
   "metadata": {
    "execution": {
     "iopub.execute_input": "2021-08-06T22:07:46.025076Z",
     "iopub.status.busy": "2021-08-06T22:07:46.024328Z",
     "iopub.status.idle": "2021-08-06T22:07:46.193367Z",
     "shell.execute_reply": "2021-08-06T22:07:46.192772Z",
     "shell.execute_reply.started": "2021-08-06T21:53:13.446591Z"
    },
    "papermill": {
     "duration": 0.206142,
     "end_time": "2021-08-06T22:07:46.193524",
     "exception": false,
     "start_time": "2021-08-06T22:07:45.987382",
     "status": "completed"
    },
    "tags": []
   },
   "outputs": [],
   "source": [
    "from sklearn.linear_model import LogisticRegression\n",
    "from sklearn import tree\n",
    "from sklearn.svm import SVC\n",
    "from sklearn.neighbors import KNeighborsClassifier"
   ]
  },
  {
   "cell_type": "markdown",
   "id": "25132689",
   "metadata": {
    "papermill": {
     "duration": 0.033473,
     "end_time": "2021-08-06T22:07:46.260777",
     "exception": false,
     "start_time": "2021-08-06T22:07:46.227304",
     "status": "completed"
    },
    "tags": []
   },
   "source": [
    "# Logistic Regression"
   ]
  },
  {
   "cell_type": "code",
   "execution_count": 18,
   "id": "d1a18bc5",
   "metadata": {
    "execution": {
     "iopub.execute_input": "2021-08-06T22:07:46.331965Z",
     "iopub.status.busy": "2021-08-06T22:07:46.331027Z",
     "iopub.status.idle": "2021-08-06T22:07:46.515235Z",
     "shell.execute_reply": "2021-08-06T22:07:46.516559Z",
     "shell.execute_reply.started": "2021-08-06T21:53:13.456367Z"
    },
    "papermill": {
     "duration": 0.223573,
     "end_time": "2021-08-06T22:07:46.516834",
     "exception": false,
     "start_time": "2021-08-06T22:07:46.293261",
     "status": "completed"
    },
    "tags": []
   },
   "outputs": [
    {
     "data": {
      "text/plain": [
       "0.8962264150943396"
      ]
     },
     "execution_count": 18,
     "metadata": {},
     "output_type": "execute_result"
    }
   ],
   "source": [
    "model = LogisticRegression()\n",
    "model.fit(x_train, y_train)\n",
    "model.score(x_test, y_test)"
   ]
  },
  {
   "cell_type": "markdown",
   "id": "019312ba",
   "metadata": {
    "papermill": {
     "duration": 0.054583,
     "end_time": "2021-08-06T22:07:46.630118",
     "exception": false,
     "start_time": "2021-08-06T22:07:46.575535",
     "status": "completed"
    },
    "tags": []
   },
   "source": [
    "# Decision Tree Classifier"
   ]
  },
  {
   "cell_type": "code",
   "execution_count": 19,
   "id": "64f10ec1",
   "metadata": {
    "execution": {
     "iopub.execute_input": "2021-08-06T22:07:46.702021Z",
     "iopub.status.busy": "2021-08-06T22:07:46.701097Z",
     "iopub.status.idle": "2021-08-06T22:07:46.712873Z",
     "shell.execute_reply": "2021-08-06T22:07:46.713433Z",
     "shell.execute_reply.started": "2021-08-06T21:53:13.504706Z"
    },
    "papermill": {
     "duration": 0.050742,
     "end_time": "2021-08-06T22:07:46.713598",
     "exception": false,
     "start_time": "2021-08-06T22:07:46.662856",
     "status": "completed"
    },
    "tags": []
   },
   "outputs": [
    {
     "data": {
      "text/plain": [
       "0.8113207547169812"
      ]
     },
     "execution_count": 19,
     "metadata": {},
     "output_type": "execute_result"
    }
   ],
   "source": [
    "md = tree.DecisionTreeClassifier()\n",
    "md.fit(x_train, y_train)\n",
    "md.score(x_test, y_test)\n"
   ]
  },
  {
   "cell_type": "markdown",
   "id": "f80a2275",
   "metadata": {
    "papermill": {
     "duration": 0.033331,
     "end_time": "2021-08-06T22:07:46.780015",
     "exception": false,
     "start_time": "2021-08-06T22:07:46.746684",
     "status": "completed"
    },
    "tags": []
   },
   "source": [
    "# Support Vector Machine"
   ]
  },
  {
   "cell_type": "code",
   "execution_count": 20,
   "id": "3708d81f",
   "metadata": {
    "execution": {
     "iopub.execute_input": "2021-08-06T22:07:46.849801Z",
     "iopub.status.busy": "2021-08-06T22:07:46.849175Z",
     "iopub.status.idle": "2021-08-06T22:07:46.889551Z",
     "shell.execute_reply": "2021-08-06T22:07:46.890056Z",
     "shell.execute_reply.started": "2021-08-06T21:53:13.530087Z"
    },
    "papermill": {
     "duration": 0.077054,
     "end_time": "2021-08-06T22:07:46.890246",
     "exception": false,
     "start_time": "2021-08-06T22:07:46.813192",
     "status": "completed"
    },
    "tags": []
   },
   "outputs": [
    {
     "data": {
      "text/plain": [
       "0.9182389937106918"
      ]
     },
     "execution_count": 20,
     "metadata": {},
     "output_type": "execute_result"
    }
   ],
   "source": [
    "md = SVC()\n",
    "md.fit(x_train, y_train)\n",
    "md.score(x_test, y_test)"
   ]
  },
  {
   "cell_type": "markdown",
   "id": "d826b41a",
   "metadata": {
    "papermill": {
     "duration": 0.033515,
     "end_time": "2021-08-06T22:07:46.957844",
     "exception": false,
     "start_time": "2021-08-06T22:07:46.924329",
     "status": "completed"
    },
    "tags": []
   },
   "source": [
    "# KNeighborsClassifier"
   ]
  },
  {
   "cell_type": "code",
   "execution_count": 21,
   "id": "4cb69f75",
   "metadata": {
    "execution": {
     "iopub.execute_input": "2021-08-06T22:07:47.032156Z",
     "iopub.status.busy": "2021-08-06T22:07:47.031495Z",
     "iopub.status.idle": "2021-08-06T22:07:47.523979Z",
     "shell.execute_reply": "2021-08-06T22:07:47.524493Z",
     "shell.execute_reply.started": "2021-08-06T22:05:52.769892Z"
    },
    "papermill": {
     "duration": 0.533053,
     "end_time": "2021-08-06T22:07:47.524662",
     "exception": false,
     "start_time": "2021-08-06T22:07:46.991609",
     "status": "completed"
    },
    "tags": []
   },
   "outputs": [
    {
     "name": "stdout",
     "output_type": "stream",
     "text": [
      "1) 0.8805031446540881\n",
      "2) 0.8805031446540881\n",
      "3) 0.8616352201257862\n",
      "4) 0.8930817610062893\n",
      "5) 0.8867924528301887\n",
      "6) 0.9025157232704403\n",
      "7) 0.889937106918239\n",
      "8) 0.889937106918239\n",
      "9) 0.8930817610062893\n",
      "10) 0.89937106918239\n",
      "11) 0.8962264150943396\n",
      "12) 0.9025157232704403\n",
      "13) 0.9056603773584906\n",
      "14) 0.9182389937106918\n",
      "15) 0.9119496855345912\n",
      "16) 0.9150943396226415\n",
      "17) 0.9025157232704403\n",
      "18) 0.9150943396226415\n",
      "19) 0.9088050314465409\n"
     ]
    }
   ],
   "source": [
    "for i in range(1,20):\n",
    "    model=KNeighborsClassifier( n_neighbors=i,metric='manhattan')\n",
    "    model.fit(x_train,y_train)\n",
    "    print(str(i)+') '+str(model.score(x_test,y_test)))"
   ]
  },
  {
   "cell_type": "markdown",
   "id": "3caf5b9d",
   "metadata": {
    "papermill": {
     "duration": 0.034245,
     "end_time": "2021-08-06T22:07:47.593292",
     "exception": false,
     "start_time": "2021-08-06T22:07:47.559047",
     "status": "completed"
    },
    "tags": []
   },
   "source": [
    "**n_neighbors = 14 gave the most accurate score**"
   ]
  },
  {
   "cell_type": "code",
   "execution_count": 22,
   "id": "d012d568",
   "metadata": {
    "execution": {
     "iopub.execute_input": "2021-08-06T22:07:47.667348Z",
     "iopub.status.busy": "2021-08-06T22:07:47.666672Z",
     "iopub.status.idle": "2021-08-06T22:07:47.698092Z",
     "shell.execute_reply": "2021-08-06T22:07:47.697439Z",
     "shell.execute_reply.started": "2021-08-06T21:53:15.318913Z"
    },
    "papermill": {
     "duration": 0.070649,
     "end_time": "2021-08-06T22:07:47.698262",
     "exception": false,
     "start_time": "2021-08-06T22:07:47.627613",
     "status": "completed"
    },
    "tags": []
   },
   "outputs": [
    {
     "data": {
      "text/plain": [
       "0.9182389937106918"
      ]
     },
     "execution_count": 22,
     "metadata": {},
     "output_type": "execute_result"
    }
   ],
   "source": [
    "model=KNeighborsClassifier( n_neighbors=14,metric='manhattan')\n",
    "model.fit(x_train,y_train)\n",
    "model.score(x_test, y_test)"
   ]
  },
  {
   "cell_type": "markdown",
   "id": "84a2e451",
   "metadata": {
    "papermill": {
     "duration": 0.034804,
     "end_time": "2021-08-06T22:07:47.768186",
     "exception": false,
     "start_time": "2021-08-06T22:07:47.733382",
     "status": "completed"
    },
    "tags": []
   },
   "source": [
    "**I get the best scores in:**\n",
    "* 20% test data and when random_state is 41\n",
    "* The score improves iof I take less data for test but it is better to keep atleast 20% data in test\n",
    "* The best fitted Algorithms in this case were Support Vector Machine and KNeighborsClassifier.\n",
    "* Both of the algorithms gave an accuracy score of 91.8%"
   ]
  },
  {
   "cell_type": "code",
   "execution_count": null,
   "id": "6e0b56dc",
   "metadata": {
    "papermill": {
     "duration": 0.034652,
     "end_time": "2021-08-06T22:07:47.838069",
     "exception": false,
     "start_time": "2021-08-06T22:07:47.803417",
     "status": "completed"
    },
    "tags": []
   },
   "outputs": [],
   "source": []
  }
 ],
 "metadata": {
  "kernelspec": {
   "display_name": "Python 3",
   "language": "python",
   "name": "python3"
  },
  "language_info": {
   "codemirror_mode": {
    "name": "ipython",
    "version": 3
   },
   "file_extension": ".py",
   "mimetype": "text/x-python",
   "name": "python",
   "nbconvert_exporter": "python",
   "pygments_lexer": "ipython3",
   "version": "3.7.10"
  },
  "papermill": {
   "default_parameters": {},
   "duration": 15.73874,
   "end_time": "2021-08-06T22:07:49.361961",
   "environment_variables": {},
   "exception": null,
   "input_path": "__notebook__.ipynb",
   "output_path": "__notebook__.ipynb",
   "parameters": {},
   "start_time": "2021-08-06T22:07:33.623221",
   "version": "2.3.3"
  }
 },
 "nbformat": 4,
 "nbformat_minor": 5
}
